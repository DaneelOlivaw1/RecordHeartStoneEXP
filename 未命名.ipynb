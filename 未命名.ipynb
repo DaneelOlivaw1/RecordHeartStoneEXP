{
 "cells": [
  {
   "cell_type": "code",
   "execution_count": 209,
   "metadata": {},
   "outputs": [],
   "source": [
    "import pandas as pd\n",
    "from datetime import timedelta\n",
    "\n",
    "data = pd.read_csv(\"/Users/wangboyi/Documents/GitHub/RecordHeartStoneEXP/data.csv\", parse_dates=['时间'])\n",
    "level = pd.read_csv(\"/Users/wangboyi/Documents/GitHub/RecordHeartStoneEXP/level.csv\", index_col=['等级'])\n",
    "\n",
    "def GetNeedExp(level, p):\n",
    "    return level.loc[p][\"升级所需经验\"]\n",
    "\n",
    "def cal(data, level, p):\n",
    "    data.时间[p]\n",
    "    delta_time = pd.to_datetime(data.时间[p]) - pd.to_datetime(data.时间[p-1])\n",
    "    totalExp = 0\n",
    "    if (int(data.等级[p]) == int(data.等级[p-1])):\n",
    "        totalExp = int(data.已刷经验[p]) - int(data.已刷经验[p-1])\n",
    "    elif (int(data.等级[p]) == int(data.等级[p-1]) + 1):\n",
    "        totalExp = GetNeedExp(level, int(data.等级[p-1])) - int(data.等级[p-1]) + int(data.等级[p])\n",
    "    else:\n",
    "        totalExp = totalExp + int(data.已刷经验[p])\n",
    "        for i in range(int(data.等级[p-1]), int(data.等级[p])):\n",
    "            totalExp = totalExp + GetNeedExp(level, i)\n",
    "    return totalExp / delta_time.total_seconds() * 60 * 60\n",
    "\n",
    "# 算全部的效率\n",
    "# for i in range(1, len(data)):\n",
    "#     data.loc[i, \"效率（exp/h）\"] =  cal(data, level, i)\n",
    "\n",
    "a = int(input(\"请输入当前等级：\"))\n",
    "b = int(input(\"请输入现在的经验：\"))\n",
    "print(pd.datetime.now())\n",
    "\n",
    "a = {\"时间\":pd.datetime.now(),\"等级\":a, \"已刷经验\":b, \"效率（exp/h）\":0}\n",
    "data = data.append(a,ignore_index=True)\n",
    "data.loc[len(data) - 1, \"效率（exp/h）\"] =  cal(data, level, len(data) - 1)\n",
    "\n",
    "print(data.loc[len(data) - 1, \"效率（exp/h）\"])\n",
    "data.to_csv(\"/Users/wangboyi/Documents/GitHub/RecordHeartStoneEXP/data.csv\", index=0)"
   ]
  },
  {
   "cell_type": "code",
   "execution_count": 211,
   "metadata": {},
   "outputs": [
    {
     "data": {
      "text/html": [
       "<div>\n",
       "<style scoped>\n",
       "    .dataframe tbody tr th:only-of-type {\n",
       "        vertical-align: middle;\n",
       "    }\n",
       "\n",
       "    .dataframe tbody tr th {\n",
       "        vertical-align: top;\n",
       "    }\n",
       "\n",
       "    .dataframe thead th {\n",
       "        text-align: right;\n",
       "    }\n",
       "</style>\n",
       "<table border=\"1\" class=\"dataframe\">\n",
       "  <thead>\n",
       "    <tr style=\"text-align: right;\">\n",
       "      <th></th>\n",
       "      <th>时间</th>\n",
       "      <th>等级</th>\n",
       "      <th>已刷经验</th>\n",
       "      <th>效率（exp/h）</th>\n",
       "    </tr>\n",
       "  </thead>\n",
       "  <tbody>\n",
       "    <tr>\n",
       "      <th>0</th>\n",
       "      <td>2020-11-17 07:36:00.000000</td>\n",
       "      <td>19</td>\n",
       "      <td>253</td>\n",
       "      <td>0.000000</td>\n",
       "    </tr>\n",
       "    <tr>\n",
       "      <th>1</th>\n",
       "      <td>2020-11-17 12:52:00.000000</td>\n",
       "      <td>19</td>\n",
       "      <td>1947</td>\n",
       "      <td>321.645570</td>\n",
       "    </tr>\n",
       "    <tr>\n",
       "      <th>2</th>\n",
       "      <td>2020-11-17 18:22:00.000000</td>\n",
       "      <td>20</td>\n",
       "      <td>283</td>\n",
       "      <td>509.272727</td>\n",
       "    </tr>\n",
       "    <tr>\n",
       "      <th>3</th>\n",
       "      <td>2020-11-17 20:54:00.319813</td>\n",
       "      <td>20</td>\n",
       "      <td>1526</td>\n",
       "      <td>490.640689</td>\n",
       "    </tr>\n",
       "  </tbody>\n",
       "</table>\n",
       "</div>"
      ],
      "text/plain": [
       "                          时间  等级  已刷经验   效率（exp/h）\n",
       "0 2020-11-17 07:36:00.000000  19   253    0.000000\n",
       "1 2020-11-17 12:52:00.000000  19  1947  321.645570\n",
       "2 2020-11-17 18:22:00.000000  20   283  509.272727\n",
       "3 2020-11-17 20:54:00.319813  20  1526  490.640689"
      ]
     },
     "execution_count": 211,
     "metadata": {},
     "output_type": "execute_result"
    }
   ],
   "source": []
  },
  {
   "cell_type": "code",
   "execution_count": 212,
   "metadata": {},
   "outputs": [],
   "source": []
  }
 ],
 "metadata": {
  "kernelspec": {
   "display_name": "Python 3",
   "language": "python",
   "name": "python3"
  },
  "language_info": {
   "codemirror_mode": {
    "name": "ipython",
    "version": 3
   },
   "file_extension": ".py",
   "mimetype": "text/x-python",
   "name": "python",
   "nbconvert_exporter": "python",
   "pygments_lexer": "ipython3",
   "version": "3.8.1"
  }
 },
 "nbformat": 4,
 "nbformat_minor": 4
}
